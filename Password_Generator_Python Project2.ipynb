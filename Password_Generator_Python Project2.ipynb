{
 "cells": [
  {
   "cell_type": "code",
   "execution_count": 44,
   "id": "6d4fc59c",
   "metadata": {},
   "outputs": [
    {
     "name": "stdout",
     "output_type": "stream",
     "text": [
      "Welcome to the Password Generator!\n",
      "How many letters would you like in your password? : 4\n",
      "How many symbols would you like in your password? : 2\n",
      "How many numbers would you like in your password? : 3\n",
      "Your password is iiSb$!510\n"
     ]
    }
   ],
   "source": [
    "# Password Generator\n",
    "\n",
    "#1. easy mode (without shuffle)\n",
    "import random\n",
    "print(\"Welcome to the Password Generator!\")\n",
    "letters = int(input(\"How many letters would you like in your password? : \"))\n",
    "symbols = int(input(\"How many symbols would you like in your password? : \"))\n",
    "numbers = int(input(\"How many numbers would you like in your password? : \"))\n",
    "\n",
    "password = \"\"\n",
    "letters_list = ['a', 'b', 'c', 'd', 'e', 'f', 'g', 'h', 'i', 'j', \n",
    "                'k', 'l', 'm', 'n', 'o', 'p', 'q', 'r', 's', 't', \n",
    "                'u', 'v', 'w', 'x', 'y', 'z', 'A', 'B', 'C', 'D', \n",
    "                'E', 'F', 'G', 'H', 'I', 'J', 'K', 'L', 'M', 'N',\n",
    "                'O', 'P', 'Q', 'R', 'S', 'T', 'U', 'V', 'W', 'X', \n",
    "                'Y', 'Z']\n",
    "for i in range(letters):\n",
    "    a = random.choice(letters_list)\n",
    "    password += a\n",
    "    \n",
    "    \n",
    "symbols_list = ['!','@','#','$']\n",
    "for i in range(symbols):\n",
    "    b = random.choice(symbols_list)\n",
    "    password += b\n",
    "    \n",
    "for i in range(numbers):\n",
    "    c = random.randint(0,9)\n",
    "    c = str(c)\n",
    "    password += c   \n",
    "\n",
    "print(\"Your password is\", password)"
   ]
  },
  {
   "cell_type": "code",
   "execution_count": 35,
   "id": "52bfb7b3",
   "metadata": {},
   "outputs": [
    {
     "name": "stdout",
     "output_type": "stream",
     "text": [
      "ABCDEFGHIJKLMNOPQRSTUVWXYZ\n",
      "['a', 'b', 'c', 'd', 'e', 'f', 'g', 'h', 'i', 'j', 'k', 'l', 'm', 'n', 'o', 'p', 'q', 'r', 's', 't', 'u', 'v', 'w', 'x', 'y', 'z', 'A', 'B', 'C', 'D', 'E', 'F', 'G', 'H', 'I', 'J', 'K', 'L', 'M', 'N', 'O', 'P', 'Q', 'R', 'S', 'T', 'U', 'V', 'W', 'X', 'Y', 'Z']\n"
     ]
    }
   ],
   "source": [
    "#for letters_list\n",
    "# just to make a list of all letters as string\n",
    "x = \"abcdefghijklmnopqrstuvwxyz\"\n",
    "y = x.upper()\n",
    "print(y)\n",
    "random_letters = \"abcdefghijklmnopqrstuvwxyzABCDEFGHIJKLMNOPQRSTUVWXYZ\"\n",
    "letters_list = []\n",
    "\n",
    "for letter in random_letters:\n",
    "    letters_list.append(letter)\n",
    "\n",
    "print(letters_list)"
   ]
  },
  {
   "cell_type": "code",
   "execution_count": 48,
   "id": "606c1915",
   "metadata": {},
   "outputs": [
    {
     "name": "stdout",
     "output_type": "stream",
     "text": [
      "Welcome to the Password Generator!\n",
      "How many letters would you like in your password? : 3\n",
      "How many symbols would you like in your password? : 4\n",
      "How many numbers would you like in your password? : 2\n",
      "['Z', 'B', 'E', '|', ']', '=', '{', '4', '2']\n",
      "['|', 'B', '2', '4', ']', '{', 'E', 'Z', '=']\n",
      "Your password is |B24]{EZ=\n"
     ]
    }
   ],
   "source": [
    "#2. hard mode (with shuffle)\n",
    "import random\n",
    "print(\"Welcome to the Password Generator!\")\n",
    "letters = int(input(\"How many letters would you like in your password? : \"))\n",
    "symbols = int(input(\"How many symbols would you like in your password? : \"))\n",
    "numbers = int(input(\"How many numbers would you like in your password? : \"))\n",
    "\n",
    "password_list = []\n",
    "letters_list = ['a', 'b', 'c', 'd', 'e', 'f', 'g', 'h', 'i', 'j', \n",
    "                'k', 'l', 'm', 'n', 'o', 'p', 'q', 'r', 's', 't', \n",
    "                'u', 'v', 'w', 'x', 'y', 'z', 'A', 'B', 'C', 'D', \n",
    "                'E', 'F', 'G', 'H', 'I', 'J', 'K', 'L', 'M', 'N',\n",
    "                'O', 'P', 'Q', 'R', 'S', 'T', 'U', 'V', 'W', 'X', \n",
    "                'Y', 'Z']\n",
    "for i in range(letters):\n",
    "    a = random.choice(letters_list)\n",
    "    password_list.append(a)\n",
    "\n",
    "symbols_list = ['!', '\"', '#', '$', '%', '&', \"'\", '(', ')', '*',\n",
    "                '+', ',', '-', '.', '/', ':', ';', '<', '=', '>',\n",
    "                '?', '@', '[', '\\\\', ']', '^', '_', '`', '{', '|',\n",
    "                '}', '~']\n",
    "for i in range(symbols):\n",
    "    b = random.choice(symbols_list)\n",
    "    password_list.append(b)\n",
    "    \n",
    "for i in range(numbers):\n",
    "    c = random.randint(0,9)\n",
    "    c = str(c)\n",
    "    password_list.append(c)\n",
    "\n",
    "print(password_list)\n",
    "random.shuffle(password_list)\n",
    "print(password_list)\n",
    "\n",
    "#password = ''.join(password_list)   #or you can try join() also\n",
    "\n",
    "password = \"\"\n",
    "for i in password_list:\n",
    "    password += i\n",
    "       \n",
    "print(\"Your password is\", password)"
   ]
  },
  {
   "cell_type": "code",
   "execution_count": null,
   "id": "1fda1dfd",
   "metadata": {},
   "outputs": [],
   "source": []
  },
  {
   "cell_type": "code",
   "execution_count": null,
   "id": "88725ea0",
   "metadata": {},
   "outputs": [],
   "source": [
    "\n"
   ]
  }
 ],
 "metadata": {
  "kernelspec": {
   "display_name": "Python 3 (ipykernel)",
   "language": "python",
   "name": "python3"
  },
  "language_info": {
   "codemirror_mode": {
    "name": "ipython",
    "version": 3
   },
   "file_extension": ".py",
   "mimetype": "text/x-python",
   "name": "python",
   "nbconvert_exporter": "python",
   "pygments_lexer": "ipython3",
   "version": "3.9.13"
  }
 },
 "nbformat": 4,
 "nbformat_minor": 5
}
